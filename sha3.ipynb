{
  "nbformat": 4,
  "nbformat_minor": 0,
  "metadata": {
    "colab": {
      "provenance": [],
      "authorship_tag": "ABX9TyNJJmI84Zfy0YtPAiL498dM",
      "include_colab_link": true
    },
    "kernelspec": {
      "name": "python3",
      "display_name": "Python 3"
    },
    "language_info": {
      "name": "python"
    }
  },
  "cells": [
    {
      "cell_type": "markdown",
      "metadata": {
        "id": "view-in-github",
        "colab_type": "text"
      },
      "source": [
        "<a href=\"https://colab.research.google.com/github/Zeynep-gul/Hashing-Data-with-SHA3-256/blob/main/sha3.ipynb\" target=\"_parent\"><img src=\"https://colab.research.google.com/assets/colab-badge.svg\" alt=\"Open In Colab\"/></a>"
      ]
    },
    {
      "cell_type": "code",
      "execution_count": null,
      "metadata": {
        "colab": {
          "base_uri": "https://localhost:8080/"
        },
        "id": "gbpBQ-RTQaaS",
        "outputId": "fcbc479d-0bbd-4dc6-aaf0-a36aa53b855a"
      },
      "outputs": [
        {
          "output_type": "stream",
          "name": "stdout",
          "text": [
            "Veri: Zeynep Gül191307049\n",
            "SHA3-256 ile Şifrelenmiş Hali: 7046eda64df378233b2a538d3a3dba27950556d4581d65c9285f63cd57428103\n"
          ]
        }
      ],
      "source": [
        "def ROL64(a, n):\n",
        "    return ((a >> (64-(n%64))) + (a << (n%64))) % (1 << 64)\n",
        "\n",
        "def KeccakF1600onLanes(lanes):\n",
        "    R = 1\n",
        "    for round in range(24):\n",
        "        # θ\n",
        "        C = [lanes[x][0] ^ lanes[x][1] ^ lanes[x][2] ^ lanes[x][3] ^ lanes[x][4] for x in range(5)]\n",
        "        D = [C[(x+4)%5] ^ ROL64(C[(x+1)%5], 1) for x in range(5)]\n",
        "        lanes = [[lanes[x][y]^D[x] for y in range(5)] for x in range(5)]\n",
        "        # ρ and π\n",
        "        (x, y) = (1, 0)\n",
        "        current = lanes[x][y]\n",
        "        for t in range(24):\n",
        "            (x, y) = (y, (2*x+3*y)%5)\n",
        "            (current, lanes[x][y]) = (lanes[x][y], ROL64(current, (t+1)*(t+2)//2))\n",
        "        # χ\n",
        "        for y in range(5):\n",
        "            T = [lanes[x][y] for x in range(5)]\n",
        "            for x in range(5):\n",
        "                lanes[x][y] = T[x] ^((~T[(x+1)%5]) & T[(x+2)%5])\n",
        "        # ι\n",
        "        for j in range(7):\n",
        "            R = ((R << 1) ^ ((R >> 7)*0x71)) % 256\n",
        "            if (R & 2):\n",
        "                lanes[0][0] = lanes[0][0] ^ (1 << ((1<<j)-1))\n",
        "    return lanes\n",
        "\n",
        "def load64(b):\n",
        "    return sum((b[i] << (8*i)) for i in range(8))\n",
        "\n",
        "def store64(a):\n",
        "    return list((a >> (8*i)) % 256 for i in range(8))\n",
        "\n",
        "def KeccakF1600(state):\n",
        "    lanes = [[load64(state[8*(x+5*y):8*(x+5*y)+8]) for y in range(5)] for x in range(5)]\n",
        "    lanes = KeccakF1600onLanes(lanes)\n",
        "    state = bytearray(200)\n",
        "    for x in range(5):\n",
        "        for y in range(5):\n",
        "            state[8*(x+5*y):8*(x+5*y)+8] = store64(lanes[x][y])\n",
        "    return state\n",
        "\n",
        "def Keccak(rate, capacity, inputBytes, delimitedSuffix, outputByteLen):\n",
        "    outputBytes = bytearray()\n",
        "    state = bytearray([0 for i in range(200)])\n",
        "    rateInBytes = rate//8\n",
        "    blockSize = 0\n",
        "    if (((rate + capacity) != 1600) or ((rate % 8) != 0)):\n",
        "        return\n",
        "    inputOffset = 0\n",
        "\n",
        "    while(inputOffset < len(inputBytes)):\n",
        "        blockSize = min(len(inputBytes)-inputOffset, rateInBytes)\n",
        "        for i in range(blockSize):\n",
        "            state[i] = state[i] ^ inputBytes[i+inputOffset]\n",
        "        inputOffset = inputOffset + blockSize\n",
        "        if (blockSize == rateInBytes):\n",
        "            state = KeccakF1600(state)\n",
        "            blockSize = 0\n",
        "\n",
        "    state[blockSize] = state[blockSize] ^ delimitedSuffix\n",
        "    if (((delimitedSuffix & 0x80) != 0) and (blockSize == (rateInBytes-1))):\n",
        "        state = KeccakF1600(state)\n",
        "    state[rateInBytes-1] = state[rateInBytes-1] ^ 0x80\n",
        "    state = KeccakF1600(state)\n",
        "\n",
        "    while(outputByteLen > 0):\n",
        "        blockSize = min(outputByteLen, rateInBytes)\n",
        "        outputBytes = outputBytes + state[0:blockSize]\n",
        "        outputByteLen = outputByteLen - blockSize\n",
        "        if (outputByteLen > 0):\n",
        "            state = KeccakF1600(state)\n",
        "    return outputBytes\n",
        "\n",
        "# def SHAKE128(inputBytes, outputByteLen):\n",
        "#     return Keccak(1344, 256, inputBytes, 0x1F, outputByteLen)\n",
        "\n",
        "# def SHAKE256(inputBytes, outputByteLen):\n",
        "#     return Keccak(1088, 512, inputBytes, 0x1F, outputByteLen)\n",
        "\n",
        "# def SHA3_224(inputBytes):\n",
        "#     return Keccak(1152, 448, inputBytes, 0x06, 224//8)\n",
        "\n",
        "def SHA3_256(inputBytes):\n",
        "    return Keccak(1088, 512, inputBytes, 0x06, 256//8)\n",
        "\n",
        "# def SHA3_384(inputBytes):\n",
        "#     return Keccak(832, 768, inputBytes, 0x06, 384//8)\n",
        "\n",
        "# def SHA3_512(inputBytes):\n",
        "#     return Keccak(576, 1024, inputBytes, 0x06, 512//8)\n",
        "\n",
        "isim = \"Zeynep Gül\"\n",
        "numara = 191307049\n",
        "veri = isim + str(numara)\n",
        "veri_sifrele = veri.encode('utf-8')\n",
        "hashed_value = SHA3_256(veri_sifrele)\n",
        "print(\"Veri:\", veri)\n",
        "print(\"SHA3-256 ile Şifrelenmiş Hali:\", hashed_value.hex())"
      ]
    }
  ]
}